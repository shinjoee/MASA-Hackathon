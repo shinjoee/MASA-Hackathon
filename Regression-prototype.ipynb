{
 "cells": [
  {
   "cell_type": "code",
   "execution_count": 1,
   "id": "ac01f13c",
   "metadata": {},
   "outputs": [],
   "source": [
    "#import library\n",
    "import numpy as np\n",
    "import pandas as pd\n",
    "\n",
    "#to ensure we have consistent results\n",
    "np.random.seed(42)"
   ]
  },
  {
   "cell_type": "code",
   "execution_count": 2,
   "id": "bd9798cb",
   "metadata": {},
   "outputs": [
    {
     "name": "stdout",
     "output_type": "stream",
     "text": [
      "==> Loading the dataset...\n",
      "done\n",
      "\n"
     ]
    }
   ],
   "source": [
    "#Load the dataset\n",
    "print('==> Loading the dataset...')\n",
    "insurance=pd.read_csv(\"dataset2.csv\")\n",
    "print('done\\n')"
   ]
  },
  {
   "cell_type": "code",
   "execution_count": 3,
   "id": "aaaba306",
   "metadata": {},
   "outputs": [
    {
     "data": {
      "text/plain": [
       "Index(['Agency', 'Agency Type', 'Distribution Channel', 'Product Name',\n",
       "       'Claim', 'Duration', 'Destination', 'Net Sales', 'Commision (in value)',\n",
       "       'Age'],\n",
       "      dtype='object')"
      ]
     },
     "execution_count": 3,
     "metadata": {},
     "output_type": "execute_result"
    }
   ],
   "source": [
    "insurance.columns"
   ]
  },
  {
   "cell_type": "code",
   "execution_count": 4,
   "id": "f25b5689",
   "metadata": {},
   "outputs": [
    {
     "data": {
      "text/html": [
       "<div>\n",
       "<style scoped>\n",
       "    .dataframe tbody tr th:only-of-type {\n",
       "        vertical-align: middle;\n",
       "    }\n",
       "\n",
       "    .dataframe tbody tr th {\n",
       "        vertical-align: top;\n",
       "    }\n",
       "\n",
       "    .dataframe thead th {\n",
       "        text-align: right;\n",
       "    }\n",
       "</style>\n",
       "<table border=\"1\" class=\"dataframe\">\n",
       "  <thead>\n",
       "    <tr style=\"text-align: right;\">\n",
       "      <th></th>\n",
       "      <th>Agency</th>\n",
       "      <th>Agency Type</th>\n",
       "      <th>Distribution Channel</th>\n",
       "      <th>Product Name</th>\n",
       "      <th>Claim</th>\n",
       "      <th>Duration</th>\n",
       "      <th>Destination</th>\n",
       "      <th>Net Sales</th>\n",
       "      <th>Commision (in value)</th>\n",
       "      <th>Age</th>\n",
       "    </tr>\n",
       "  </thead>\n",
       "  <tbody>\n",
       "    <tr>\n",
       "      <th>0</th>\n",
       "      <td>0</td>\n",
       "      <td>0</td>\n",
       "      <td>0</td>\n",
       "      <td>0</td>\n",
       "      <td>0</td>\n",
       "      <td>86.5</td>\n",
       "      <td>0</td>\n",
       "      <td>-29.0</td>\n",
       "      <td>9.57</td>\n",
       "      <td>81.0</td>\n",
       "    </tr>\n",
       "    <tr>\n",
       "      <th>1</th>\n",
       "      <td>0</td>\n",
       "      <td>0</td>\n",
       "      <td>0</td>\n",
       "      <td>0</td>\n",
       "      <td>0</td>\n",
       "      <td>86.5</td>\n",
       "      <td>0</td>\n",
       "      <td>-29.0</td>\n",
       "      <td>9.57</td>\n",
       "      <td>71.0</td>\n",
       "    </tr>\n",
       "    <tr>\n",
       "      <th>2</th>\n",
       "      <td>1</td>\n",
       "      <td>0</td>\n",
       "      <td>1</td>\n",
       "      <td>1</td>\n",
       "      <td>0</td>\n",
       "      <td>65.0</td>\n",
       "      <td>1</td>\n",
       "      <td>-37.5</td>\n",
       "      <td>29.70</td>\n",
       "      <td>32.0</td>\n",
       "    </tr>\n",
       "    <tr>\n",
       "      <th>3</th>\n",
       "      <td>1</td>\n",
       "      <td>0</td>\n",
       "      <td>1</td>\n",
       "      <td>1</td>\n",
       "      <td>0</td>\n",
       "      <td>60.0</td>\n",
       "      <td>1</td>\n",
       "      <td>-37.5</td>\n",
       "      <td>23.76</td>\n",
       "      <td>32.0</td>\n",
       "    </tr>\n",
       "    <tr>\n",
       "      <th>4</th>\n",
       "      <td>1</td>\n",
       "      <td>0</td>\n",
       "      <td>1</td>\n",
       "      <td>1</td>\n",
       "      <td>0</td>\n",
       "      <td>79.0</td>\n",
       "      <td>2</td>\n",
       "      <td>-19.8</td>\n",
       "      <td>11.88</td>\n",
       "      <td>41.0</td>\n",
       "    </tr>\n",
       "  </tbody>\n",
       "</table>\n",
       "</div>"
      ],
      "text/plain": [
       "   Agency  Agency Type  Distribution Channel  Product Name  Claim  Duration  \\\n",
       "0       0            0                     0             0      0      86.5   \n",
       "1       0            0                     0             0      0      86.5   \n",
       "2       1            0                     1             1      0      65.0   \n",
       "3       1            0                     1             1      0      60.0   \n",
       "4       1            0                     1             1      0      79.0   \n",
       "\n",
       "   Destination  Net Sales  Commision (in value)   Age  \n",
       "0            0      -29.0                  9.57  81.0  \n",
       "1            0      -29.0                  9.57  71.0  \n",
       "2            1      -37.5                 29.70  32.0  \n",
       "3            1      -37.5                 23.76  32.0  \n",
       "4            2      -19.8                 11.88  41.0  "
      ]
     },
     "execution_count": 4,
     "metadata": {},
     "output_type": "execute_result"
    }
   ],
   "source": [
    "#display dataset\n",
    "insurance\n",
    "#display first 5 rows\n",
    "insurance.head()"
   ]
  },
  {
   "cell_type": "code",
   "execution_count": 5,
   "id": "aefae89d",
   "metadata": {},
   "outputs": [],
   "source": [
    "#Split the data set into the input matrix and output vector\n",
    "x= insurance.drop('Net Sales', axis=1)\n",
    "y=insurance['Net Sales']"
   ]
  },
  {
   "cell_type": "code",
   "execution_count": 6,
   "id": "2afa34e2",
   "metadata": {},
   "outputs": [
    {
     "data": {
      "text/html": [
       "<div>\n",
       "<style scoped>\n",
       "    .dataframe tbody tr th:only-of-type {\n",
       "        vertical-align: middle;\n",
       "    }\n",
       "\n",
       "    .dataframe tbody tr th {\n",
       "        vertical-align: top;\n",
       "    }\n",
       "\n",
       "    .dataframe thead th {\n",
       "        text-align: right;\n",
       "    }\n",
       "</style>\n",
       "<table border=\"1\" class=\"dataframe\">\n",
       "  <thead>\n",
       "    <tr style=\"text-align: right;\">\n",
       "      <th></th>\n",
       "      <th>Agency</th>\n",
       "      <th>Agency Type</th>\n",
       "      <th>Distribution Channel</th>\n",
       "      <th>Product Name</th>\n",
       "      <th>Claim</th>\n",
       "      <th>Duration</th>\n",
       "      <th>Destination</th>\n",
       "      <th>Commision (in value)</th>\n",
       "      <th>Age</th>\n",
       "    </tr>\n",
       "  </thead>\n",
       "  <tbody>\n",
       "    <tr>\n",
       "      <th>0</th>\n",
       "      <td>0</td>\n",
       "      <td>0</td>\n",
       "      <td>0</td>\n",
       "      <td>0</td>\n",
       "      <td>0</td>\n",
       "      <td>86.5</td>\n",
       "      <td>0</td>\n",
       "      <td>9.57</td>\n",
       "      <td>81.0</td>\n",
       "    </tr>\n",
       "    <tr>\n",
       "      <th>1</th>\n",
       "      <td>0</td>\n",
       "      <td>0</td>\n",
       "      <td>0</td>\n",
       "      <td>0</td>\n",
       "      <td>0</td>\n",
       "      <td>86.5</td>\n",
       "      <td>0</td>\n",
       "      <td>9.57</td>\n",
       "      <td>71.0</td>\n",
       "    </tr>\n",
       "    <tr>\n",
       "      <th>2</th>\n",
       "      <td>1</td>\n",
       "      <td>0</td>\n",
       "      <td>1</td>\n",
       "      <td>1</td>\n",
       "      <td>0</td>\n",
       "      <td>65.0</td>\n",
       "      <td>1</td>\n",
       "      <td>29.70</td>\n",
       "      <td>32.0</td>\n",
       "    </tr>\n",
       "    <tr>\n",
       "      <th>3</th>\n",
       "      <td>1</td>\n",
       "      <td>0</td>\n",
       "      <td>1</td>\n",
       "      <td>1</td>\n",
       "      <td>0</td>\n",
       "      <td>60.0</td>\n",
       "      <td>1</td>\n",
       "      <td>23.76</td>\n",
       "      <td>32.0</td>\n",
       "    </tr>\n",
       "    <tr>\n",
       "      <th>4</th>\n",
       "      <td>1</td>\n",
       "      <td>0</td>\n",
       "      <td>1</td>\n",
       "      <td>1</td>\n",
       "      <td>0</td>\n",
       "      <td>79.0</td>\n",
       "      <td>2</td>\n",
       "      <td>11.88</td>\n",
       "      <td>41.0</td>\n",
       "    </tr>\n",
       "    <tr>\n",
       "      <th>...</th>\n",
       "      <td>...</td>\n",
       "      <td>...</td>\n",
       "      <td>...</td>\n",
       "      <td>...</td>\n",
       "      <td>...</td>\n",
       "      <td>...</td>\n",
       "      <td>...</td>\n",
       "      <td>...</td>\n",
       "      <td>...</td>\n",
       "    </tr>\n",
       "    <tr>\n",
       "      <th>63321</th>\n",
       "      <td>2</td>\n",
       "      <td>1</td>\n",
       "      <td>1</td>\n",
       "      <td>3</td>\n",
       "      <td>0</td>\n",
       "      <td>86.5</td>\n",
       "      <td>10</td>\n",
       "      <td>12.25</td>\n",
       "      <td>31.0</td>\n",
       "    </tr>\n",
       "    <tr>\n",
       "      <th>63322</th>\n",
       "      <td>2</td>\n",
       "      <td>1</td>\n",
       "      <td>1</td>\n",
       "      <td>3</td>\n",
       "      <td>0</td>\n",
       "      <td>58.0</td>\n",
       "      <td>14</td>\n",
       "      <td>14.00</td>\n",
       "      <td>40.0</td>\n",
       "    </tr>\n",
       "    <tr>\n",
       "      <th>63323</th>\n",
       "      <td>2</td>\n",
       "      <td>1</td>\n",
       "      <td>1</td>\n",
       "      <td>3</td>\n",
       "      <td>0</td>\n",
       "      <td>2.0</td>\n",
       "      <td>0</td>\n",
       "      <td>6.30</td>\n",
       "      <td>57.0</td>\n",
       "    </tr>\n",
       "    <tr>\n",
       "      <th>63324</th>\n",
       "      <td>2</td>\n",
       "      <td>1</td>\n",
       "      <td>1</td>\n",
       "      <td>3</td>\n",
       "      <td>0</td>\n",
       "      <td>3.0</td>\n",
       "      <td>7</td>\n",
       "      <td>6.30</td>\n",
       "      <td>63.0</td>\n",
       "    </tr>\n",
       "    <tr>\n",
       "      <th>63325</th>\n",
       "      <td>2</td>\n",
       "      <td>1</td>\n",
       "      <td>1</td>\n",
       "      <td>3</td>\n",
       "      <td>0</td>\n",
       "      <td>22.0</td>\n",
       "      <td>19</td>\n",
       "      <td>9.10</td>\n",
       "      <td>35.0</td>\n",
       "    </tr>\n",
       "  </tbody>\n",
       "</table>\n",
       "<p>63326 rows × 9 columns</p>\n",
       "</div>"
      ],
      "text/plain": [
       "       Agency  Agency Type  Distribution Channel  Product Name  Claim  \\\n",
       "0           0            0                     0             0      0   \n",
       "1           0            0                     0             0      0   \n",
       "2           1            0                     1             1      0   \n",
       "3           1            0                     1             1      0   \n",
       "4           1            0                     1             1      0   \n",
       "...       ...          ...                   ...           ...    ...   \n",
       "63321       2            1                     1             3      0   \n",
       "63322       2            1                     1             3      0   \n",
       "63323       2            1                     1             3      0   \n",
       "63324       2            1                     1             3      0   \n",
       "63325       2            1                     1             3      0   \n",
       "\n",
       "       Duration  Destination  Commision (in value)   Age  \n",
       "0          86.5            0                  9.57  81.0  \n",
       "1          86.5            0                  9.57  71.0  \n",
       "2          65.0            1                 29.70  32.0  \n",
       "3          60.0            1                 23.76  32.0  \n",
       "4          79.0            2                 11.88  41.0  \n",
       "...         ...          ...                   ...   ...  \n",
       "63321      86.5           10                 12.25  31.0  \n",
       "63322      58.0           14                 14.00  40.0  \n",
       "63323       2.0            0                  6.30  57.0  \n",
       "63324       3.0            7                  6.30  63.0  \n",
       "63325      22.0           19                  9.10  35.0  \n",
       "\n",
       "[63326 rows x 9 columns]"
      ]
     },
     "execution_count": 6,
     "metadata": {},
     "output_type": "execute_result"
    }
   ],
   "source": [
    "#display x \n",
    "#Dataset that have remove column Claim\n",
    "x"
   ]
  },
  {
   "cell_type": "code",
   "execution_count": 7,
   "id": "c06a540b",
   "metadata": {},
   "outputs": [
    {
     "data": {
      "text/plain": [
       "0       -29.0\n",
       "1       -29.0\n",
       "2       -37.5\n",
       "3       -37.5\n",
       "4       -19.8\n",
       "         ... \n",
       "63321    35.0\n",
       "63322    40.0\n",
       "63323    18.0\n",
       "63324    18.0\n",
       "63325    26.0\n",
       "Name: Net Sales, Length: 63326, dtype: float64"
      ]
     },
     "execution_count": 7,
     "metadata": {},
     "output_type": "execute_result"
    }
   ],
   "source": [
    "#display the vector y[what we want to predict]\n",
    "#column 'Net Sales' only\n",
    "y"
   ]
  },
  {
   "cell_type": "code",
   "execution_count": 8,
   "id": "4b6c8bb8",
   "metadata": {},
   "outputs": [
    {
     "name": "stdout",
     "output_type": "stream",
     "text": [
      "<class 'pandas.core.series.Series'>\n",
      "RangeIndex: 63326 entries, 0 to 63325\n",
      "Series name: Net Sales\n",
      "Non-Null Count  Dtype  \n",
      "--------------  -----  \n",
      "63326 non-null  float64\n",
      "dtypes: float64(1)\n",
      "memory usage: 494.9 KB\n"
     ]
    }
   ],
   "source": [
    "y.info()"
   ]
  },
  {
   "cell_type": "code",
   "execution_count": 9,
   "id": "9b5a0def",
   "metadata": {},
   "outputs": [
    {
     "ename": "AttributeError",
     "evalue": "type object 'Series' has no attribute 'y'",
     "output_type": "error",
     "traceback": [
      "\u001b[1;31m---------------------------------------------------------------------------\u001b[0m",
      "\u001b[1;31mAttributeError\u001b[0m                            Traceback (most recent call last)",
      "Input \u001b[1;32mIn [9]\u001b[0m, in \u001b[0;36m<cell line: 1>\u001b[1;34m()\u001b[0m\n\u001b[1;32m----> 1\u001b[0m \u001b[43mpd\u001b[49m\u001b[38;5;241;43m.\u001b[39;49m\u001b[43mSeries\u001b[49m\u001b[38;5;241;43m.\u001b[39;49m\u001b[43my\u001b[49m(\u001b[38;5;124m'\u001b[39m\u001b[38;5;124mClaim\u001b[39m\u001b[38;5;124m'\u001b[39m\u001b[38;5;241m==\u001b[39m\u001b[38;5;241m1\u001b[39m)\u001b[38;5;241m.\u001b[39mvalues\n",
      "\u001b[1;31mAttributeError\u001b[0m: type object 'Series' has no attribute 'y'"
     ]
    }
   ],
   "source": [
    "pd.Series.y('Claim'==1).values"
   ]
  },
  {
   "cell_type": "code",
   "execution_count": 10,
   "id": "acb877a2",
   "metadata": {},
   "outputs": [],
   "source": [
    "#Split the dataset into training and testing set\n",
    "#80% training set\n",
    "#20% test set\n",
    "from sklearn.model_selection import train_test_split\n",
    "x_train, x_test, y_train, y_test=train_test_split(x, y, test_size=0.2, random_state=30)"
   ]
  },
  {
   "cell_type": "code",
   "execution_count": 11,
   "id": "5b600a4e",
   "metadata": {},
   "outputs": [],
   "source": [
    "#Standardize numeric data and normalize\n",
    "from sklearn.preprocessing import StandardScaler\n",
    "scaler=StandardScaler(copy=False)\n",
    "scaler.fit(x_train)\n",
    "x_train=scaler.transform(x_train)"
   ]
  },
  {
   "cell_type": "code",
   "execution_count": 12,
   "id": "838d8126",
   "metadata": {},
   "outputs": [
    {
     "name": "stdout",
     "output_type": "stream",
     "text": [
      "x_train.shape: (50660, 9)\n",
      "y_train shape: (50660,)\n"
     ]
    }
   ],
   "source": [
    "y_train = y_train.values;  #convert to numpy array\n",
    "#print the total number of rows and column\n",
    "print('x_train.shape:', x_train.shape) \n",
    "print('y_train shape:', y_train.shape)"
   ]
  },
  {
   "cell_type": "markdown",
   "id": "26d52cd9",
   "metadata": {},
   "source": [
    "# Linear Regression Model"
   ]
  },
  {
   "cell_type": "code",
   "execution_count": 13,
   "id": "57b4adac",
   "metadata": {},
   "outputs": [
    {
     "data": {
      "text/plain": [
       "LinearRegression()"
      ]
     },
     "execution_count": 13,
     "metadata": {},
     "output_type": "execute_result"
    }
   ],
   "source": [
    "from sklearn.linear_model import LinearRegression\n",
    "#use train dataset\n",
    "lin_reg=LinearRegression()\n",
    "lin_reg.fit(x_train, y_train)"
   ]
  },
  {
   "cell_type": "code",
   "execution_count": 14,
   "id": "41ea60b2",
   "metadata": {},
   "outputs": [],
   "source": [
    "y_pred=lin_reg.predict(x_train)\n",
    "#predict using the same training data\n",
    "#y_train should be similar to y_predict\n",
    "#predict value similar to the actual value"
   ]
  },
  {
   "cell_type": "code",
   "execution_count": 15,
   "id": "0af2c75b",
   "metadata": {},
   "outputs": [
    {
     "name": "stdout",
     "output_type": "stream",
     "text": [
      "Result for the 10 random samples: \n",
      "actual =       0 pred =     34\n",
      "actual =      10 pred =     24\n",
      "actual =      20 pred =     27\n",
      "actual =      10 pred =     27\n",
      "actual =      13 pred =     26\n",
      "actual =      86 pred =     91\n",
      "actual =      30 pred =     25\n",
      "actual =      32 pred =     33\n",
      "actual =      16 pred =     26\n",
      "actual =      13 pred =     37\n"
     ]
    }
   ],
   "source": [
    "def show10results(y_train, y_pred):\n",
    "    print('Result for the 10 random samples: ')\n",
    "    selected = np.random.randint(0, len(y_train), 10)\n",
    "    for i in selected:\n",
    "        print('actual = {:7.0f} pred ={:7.0f}'.format(y_train[i], y_pred[i]))\n",
    "\n",
    "y_pred=lin_reg.predict(x_train)#predict\n",
    "show10results(y_train, y_pred)"
   ]
  },
  {
   "cell_type": "code",
   "execution_count": 16,
   "id": "f9c608a6",
   "metadata": {},
   "outputs": [
    {
     "name": "stdout",
     "output_type": "stream",
     "text": [
      "RMSE = 22.077179402157668\n"
     ]
    }
   ],
   "source": [
    "#calculate root mean square error\n",
    "from sklearn.metrics import mean_squared_error\n",
    "\n",
    "lin_mse=mean_squared_error(y_pred, y_train)\n",
    "lin_rmse=np.sqrt(lin_mse)\n",
    "print('RMSE =', lin_rmse)"
   ]
  },
  {
   "cell_type": "code",
   "execution_count": 17,
   "id": "f34e6c09",
   "metadata": {},
   "outputs": [
    {
     "data": {
      "text/plain": [
       "34.51616397688176"
      ]
     },
     "execution_count": 17,
     "metadata": {},
     "output_type": "execute_result"
    }
   ],
   "source": [
    "insurance['Net Sales'].mean()"
   ]
  },
  {
   "cell_type": "code",
   "execution_count": 19,
   "id": "b8b8f990",
   "metadata": {},
   "outputs": [],
   "source": [
    "#cross validation predict\n",
    "from sklearn.model_selection import cross_val_predict\n",
    "\n",
    "# Exercise: perform cross-validatied prediction using cross_val_predict\n",
    "y_pred_cv = cross_val_predict(lin_reg, x_train, y_train, cv=3)"
   ]
  },
  {
   "cell_type": "code",
   "execution_count": 20,
   "id": "705ac5cf",
   "metadata": {},
   "outputs": [],
   "source": [
    "def peek_results(actual, predicted, num = 20):\n",
    "    print('actual |  Predicted')\n",
    "    print('------------------')\n",
    "    for i in range(num):\n",
    "        sel = np.random.randint(0, len(y_train))\n",
    "        print(actual[sel], ' |', predicted[sel])"
   ]
  },
  {
   "cell_type": "code",
   "execution_count": 21,
   "id": "428379fb",
   "metadata": {},
   "outputs": [
    {
     "name": "stdout",
     "output_type": "stream",
     "text": [
      "actual |  Predicted\n",
      "------------------\n",
      "21.0  | 28.329635087391182\n",
      "41.0  | 29.44852211268201\n",
      "39.6  | 38.95260952056465\n",
      "31.0  | 27.11005833979837\n",
      "20.0  | 26.504411006858106\n",
      "20.0  | 24.202413620185574\n",
      "16.0  | 33.23760922648137\n",
      "79.2  | 58.61504674391154\n",
      "-29.7  | 33.73795741374646\n",
      "11.0  | 26.443247483213508\n",
      "59.4  | 46.898297619563124\n",
      "62.0  | 30.087440564199955\n",
      "62.0  | 42.28607061485717\n",
      "80.0  | 31.330645317626733\n",
      "45.0  | 33.831957328872214\n",
      "10.0  | 26.780736950552395\n",
      "14.0  | 25.580602433017347\n",
      "10.0  | 22.313897706540832\n",
      "39.6  | 44.740375477412265\n",
      "22.0  | 26.260617524417516\n"
     ]
    }
   ],
   "source": [
    "peek_results(y_train, y_pred_cv)"
   ]
  },
  {
   "cell_type": "code",
   "execution_count": 22,
   "id": "e45c14b2",
   "metadata": {},
   "outputs": [],
   "source": [
    "y_train=pd.DataFrame(y_train)\n",
    "y_pred_cv=pd.DataFrame(y_pred_cv)"
   ]
  },
  {
   "cell_type": "code",
   "execution_count": 23,
   "id": "783b6cda",
   "metadata": {},
   "outputs": [
    {
     "data": {
      "image/png": "[encoded data removed]",
      "text/plain": [
       "<Figure size 432x288 with 1 Axes>"
      ]
     },
     "metadata": {
      "needs_background": "light"
     },
     "output_type": "display_data"
    }
   ],
   "source": [
    "import matplotlib.pyplot as plt\n",
    "import numpy as np\n",
    "\n",
    "\n",
    "def plotGraph(y_train,y_pred_cv,regressorName):\n",
    "    if max(y_train) >= max(y_pred_cv):\n",
    "        my_range = int(max(y_train))\n",
    "    else:\n",
    "        my_range = int(max(y_pred_cv))\n",
    "    plt.scatter(range(len(y_train)), y_train, color='blue')\n",
    "    plt.scatter(range(len(y_pred_cv)), y_pred_cv, color='red')\n",
    "    plt.title(regressorName)\n",
    "    plt.show()\n",
    "    return\n",
    "\n",
    "\n",
    "y_test = range(10)\n",
    "y_pred = np.random.randint(0, 10, 10)\n",
    "\n",
    "plotGraph(y_train, y_pred_cv, \"test\")"
   ]
  },
  {
   "cell_type": "code",
   "execution_count": null,
   "id": "bf3ff22b",
   "metadata": {},
   "outputs": [],
   "source": []
  }
 ],
 "metadata": {
  "kernelspec": {
   "display_name": "Python 3 (ipykernel)",
   "language": "python",
   "name": "python3"
  },
  "language_info": {
   "codemirror_mode": {
    "name": "ipython",
    "version": 3
   },
   "file_extension": ".py",
   "mimetype": "text/x-python",
   "name": "python",
   "nbconvert_exporter": "python",
   "pygments_lexer": "ipython3",
   "version": "3.9.12"
  }
 },
 "nbformat": 4,
 "nbformat_minor": 5
}
