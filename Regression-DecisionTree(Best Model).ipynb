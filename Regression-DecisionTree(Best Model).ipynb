{
 "cells": [
  {
   "cell_type": "markdown",
   "id": "efecd795",
   "metadata": {},
   "source": [
    "Best Model - Decision Tree\n",
    "Lowest RMSE value among all the regression model."
   ]
  },
  {
   "cell_type": "code",
   "execution_count": 1,
   "id": "ac01f13c",
   "metadata": {},
   "outputs": [],
   "source": [
    "#import library\n",
    "import numpy as np\n",
    "import pandas as pd\n",
    "\n",
    "#to ensure we have consistent results\n",
    "np.random.seed(42)"
   ]
  },
  {
   "cell_type": "code",
   "execution_count": 2,
   "id": "bd9798cb",
   "metadata": {},
   "outputs": [
    {
     "name": "stdout",
     "output_type": "stream",
     "text": [
      "==> Loading the dataset...\n",
      "done\n",
      "\n"
     ]
    }
   ],
   "source": [
    "#Load the dataset\n",
    "print('==> Loading the dataset...')\n",
    "insurance=pd.read_csv(\"dataset2.csv\")\n",
    "print('done\\n')"
   ]
  },
  {
   "cell_type": "code",
   "execution_count": 3,
   "id": "2716d0e0",
   "metadata": {},
   "outputs": [
    {
     "data": {
      "text/plain": [
       "Index(['Agency', 'Distribution Channel', 'Product Name', 'Claim', 'Duration',\n",
       "       'Destination', 'Net Sales', 'Age'],\n",
       "      dtype='object')"
      ]
     },
     "execution_count": 3,
     "metadata": {},
     "output_type": "execute_result"
    }
   ],
   "source": [
    "insurance.columns"
   ]
  },
  {
   "cell_type": "code",
   "execution_count": 4,
   "id": "f25b5689",
   "metadata": {},
   "outputs": [
    {
     "data": {
      "text/html": [
       "<div>\n",
       "<style scoped>\n",
       "    .dataframe tbody tr th:only-of-type {\n",
       "        vertical-align: middle;\n",
       "    }\n",
       "\n",
       "    .dataframe tbody tr th {\n",
       "        vertical-align: top;\n",
       "    }\n",
       "\n",
       "    .dataframe thead th {\n",
       "        text-align: right;\n",
       "    }\n",
       "</style>\n",
       "<table border=\"1\" class=\"dataframe\">\n",
       "  <thead>\n",
       "    <tr style=\"text-align: right;\">\n",
       "      <th></th>\n",
       "      <th>Agency</th>\n",
       "      <th>Distribution Channel</th>\n",
       "      <th>Product Name</th>\n",
       "      <th>Claim</th>\n",
       "      <th>Duration</th>\n",
       "      <th>Destination</th>\n",
       "      <th>Net Sales</th>\n",
       "      <th>Age</th>\n",
       "    </tr>\n",
       "  </thead>\n",
       "  <tbody>\n",
       "    <tr>\n",
       "      <th>0</th>\n",
       "      <td>0</td>\n",
       "      <td>0</td>\n",
       "      <td>0</td>\n",
       "      <td>0</td>\n",
       "      <td>119.0</td>\n",
       "      <td>0</td>\n",
       "      <td>-27.0</td>\n",
       "      <td>55.0</td>\n",
       "    </tr>\n",
       "    <tr>\n",
       "      <th>1</th>\n",
       "      <td>0</td>\n",
       "      <td>0</td>\n",
       "      <td>0</td>\n",
       "      <td>0</td>\n",
       "      <td>119.0</td>\n",
       "      <td>0</td>\n",
       "      <td>-27.0</td>\n",
       "      <td>55.0</td>\n",
       "    </tr>\n",
       "    <tr>\n",
       "      <th>2</th>\n",
       "      <td>1</td>\n",
       "      <td>1</td>\n",
       "      <td>1</td>\n",
       "      <td>0</td>\n",
       "      <td>65.0</td>\n",
       "      <td>1</td>\n",
       "      <td>-27.0</td>\n",
       "      <td>32.0</td>\n",
       "    </tr>\n",
       "    <tr>\n",
       "      <th>3</th>\n",
       "      <td>1</td>\n",
       "      <td>1</td>\n",
       "      <td>1</td>\n",
       "      <td>0</td>\n",
       "      <td>60.0</td>\n",
       "      <td>1</td>\n",
       "      <td>-27.0</td>\n",
       "      <td>32.0</td>\n",
       "    </tr>\n",
       "    <tr>\n",
       "      <th>4</th>\n",
       "      <td>1</td>\n",
       "      <td>1</td>\n",
       "      <td>1</td>\n",
       "      <td>0</td>\n",
       "      <td>79.0</td>\n",
       "      <td>2</td>\n",
       "      <td>-19.8</td>\n",
       "      <td>41.0</td>\n",
       "    </tr>\n",
       "  </tbody>\n",
       "</table>\n",
       "</div>"
      ],
      "text/plain": [
       "   Agency  Distribution Channel  Product Name  Claim  Duration  Destination  \\\n",
       "0       0                     0             0      0     119.0            0   \n",
       "1       0                     0             0      0     119.0            0   \n",
       "2       1                     1             1      0      65.0            1   \n",
       "3       1                     1             1      0      60.0            1   \n",
       "4       1                     1             1      0      79.0            2   \n",
       "\n",
       "   Net Sales   Age  \n",
       "0      -27.0  55.0  \n",
       "1      -27.0  55.0  \n",
       "2      -27.0  32.0  \n",
       "3      -27.0  32.0  \n",
       "4      -19.8  41.0  "
      ]
     },
     "execution_count": 4,
     "metadata": {},
     "output_type": "execute_result"
    }
   ],
   "source": [
    "#display dataset\n",
    "insurance\n",
    "#display first 5 rows\n",
    "insurance.head()"
   ]
  },
  {
   "cell_type": "code",
   "execution_count": 5,
   "id": "d8d24a09",
   "metadata": {},
   "outputs": [
    {
     "data": {
      "text/html": [
       "<div>\n",
       "<style scoped>\n",
       "    .dataframe tbody tr th:only-of-type {\n",
       "        vertical-align: middle;\n",
       "    }\n",
       "\n",
       "    .dataframe tbody tr th {\n",
       "        vertical-align: top;\n",
       "    }\n",
       "\n",
       "    .dataframe thead th {\n",
       "        text-align: right;\n",
       "    }\n",
       "</style>\n",
       "<table border=\"1\" class=\"dataframe\">\n",
       "  <thead>\n",
       "    <tr style=\"text-align: right;\">\n",
       "      <th></th>\n",
       "      <th>Agency</th>\n",
       "      <th>Distribution Channel</th>\n",
       "      <th>Product Name</th>\n",
       "      <th>Claim</th>\n",
       "      <th>Duration</th>\n",
       "      <th>Destination</th>\n",
       "      <th>Net Sales</th>\n",
       "      <th>Age</th>\n",
       "    </tr>\n",
       "  </thead>\n",
       "  <tbody>\n",
       "    <tr>\n",
       "      <th>count</th>\n",
       "      <td>63326.000000</td>\n",
       "      <td>63326.000000</td>\n",
       "      <td>63326.000000</td>\n",
       "      <td>63326.000000</td>\n",
       "      <td>63326.000000</td>\n",
       "      <td>63326.000000</td>\n",
       "      <td>63326.000000</td>\n",
       "      <td>63326.000000</td>\n",
       "    </tr>\n",
       "    <tr>\n",
       "      <th>mean</th>\n",
       "      <td>3.907526</td>\n",
       "      <td>0.982519</td>\n",
       "      <td>6.293702</td>\n",
       "      <td>0.014639</td>\n",
       "      <td>37.012711</td>\n",
       "      <td>12.208445</td>\n",
       "      <td>35.140900</td>\n",
       "      <td>38.403941</td>\n",
       "    </tr>\n",
       "    <tr>\n",
       "      <th>std</th>\n",
       "      <td>2.155826</td>\n",
       "      <td>0.131056</td>\n",
       "      <td>3.818476</td>\n",
       "      <td>0.120102</td>\n",
       "      <td>36.180467</td>\n",
       "      <td>12.611972</td>\n",
       "      <td>26.595704</td>\n",
       "      <td>8.532404</td>\n",
       "    </tr>\n",
       "    <tr>\n",
       "      <th>min</th>\n",
       "      <td>0.000000</td>\n",
       "      <td>0.000000</td>\n",
       "      <td>0.000000</td>\n",
       "      <td>0.000000</td>\n",
       "      <td>1.000000</td>\n",
       "      <td>0.000000</td>\n",
       "      <td>-27.000000</td>\n",
       "      <td>23.000000</td>\n",
       "    </tr>\n",
       "    <tr>\n",
       "      <th>25%</th>\n",
       "      <td>4.000000</td>\n",
       "      <td>1.000000</td>\n",
       "      <td>3.000000</td>\n",
       "      <td>0.000000</td>\n",
       "      <td>9.000000</td>\n",
       "      <td>4.000000</td>\n",
       "      <td>18.000000</td>\n",
       "      <td>35.000000</td>\n",
       "    </tr>\n",
       "    <tr>\n",
       "      <th>50%</th>\n",
       "      <td>4.000000</td>\n",
       "      <td>1.000000</td>\n",
       "      <td>6.000000</td>\n",
       "      <td>0.000000</td>\n",
       "      <td>22.000000</td>\n",
       "      <td>9.000000</td>\n",
       "      <td>26.530000</td>\n",
       "      <td>36.000000</td>\n",
       "    </tr>\n",
       "    <tr>\n",
       "      <th>75%</th>\n",
       "      <td>4.000000</td>\n",
       "      <td>1.000000</td>\n",
       "      <td>9.000000</td>\n",
       "      <td>0.000000</td>\n",
       "      <td>53.000000</td>\n",
       "      <td>14.000000</td>\n",
       "      <td>48.000000</td>\n",
       "      <td>43.000000</td>\n",
       "    </tr>\n",
       "    <tr>\n",
       "      <th>max</th>\n",
       "      <td>15.000000</td>\n",
       "      <td>1.000000</td>\n",
       "      <td>25.000000</td>\n",
       "      <td>1.000000</td>\n",
       "      <td>119.000000</td>\n",
       "      <td>148.000000</td>\n",
       "      <td>93.000000</td>\n",
       "      <td>55.000000</td>\n",
       "    </tr>\n",
       "  </tbody>\n",
       "</table>\n",
       "</div>"
      ],
      "text/plain": [
       "             Agency  Distribution Channel  Product Name         Claim  \\\n",
       "count  63326.000000          63326.000000  63326.000000  63326.000000   \n",
       "mean       3.907526              0.982519      6.293702      0.014639   \n",
       "std        2.155826              0.131056      3.818476      0.120102   \n",
       "min        0.000000              0.000000      0.000000      0.000000   \n",
       "25%        4.000000              1.000000      3.000000      0.000000   \n",
       "50%        4.000000              1.000000      6.000000      0.000000   \n",
       "75%        4.000000              1.000000      9.000000      0.000000   \n",
       "max       15.000000              1.000000     25.000000      1.000000   \n",
       "\n",
       "           Duration   Destination     Net Sales           Age  \n",
       "count  63326.000000  63326.000000  63326.000000  63326.000000  \n",
       "mean      37.012711     12.208445     35.140900     38.403941  \n",
       "std       36.180467     12.611972     26.595704      8.532404  \n",
       "min        1.000000      0.000000    -27.000000     23.000000  \n",
       "25%        9.000000      4.000000     18.000000     35.000000  \n",
       "50%       22.000000      9.000000     26.530000     36.000000  \n",
       "75%       53.000000     14.000000     48.000000     43.000000  \n",
       "max      119.000000    148.000000     93.000000     55.000000  "
      ]
     },
     "execution_count": 5,
     "metadata": {},
     "output_type": "execute_result"
    }
   ],
   "source": [
    "#print statistic\n",
    "insurance.describe()"
   ]
  },
  {
   "cell_type": "code",
   "execution_count": 6,
   "id": "c064d519",
   "metadata": {},
   "outputs": [
    {
     "data": {
      "text/plain": [
       "count    63326.000000\n",
       "mean        35.140900\n",
       "std         26.595704\n",
       "min        -27.000000\n",
       "25%         18.000000\n",
       "50%         26.530000\n",
       "75%         48.000000\n",
       "max         93.000000\n",
       "Name: Net Sales, dtype: float64"
      ]
     },
     "execution_count": 6,
     "metadata": {},
     "output_type": "execute_result"
    }
   ],
   "source": [
    "#print statistic for net sales\n",
    "insurance['Net Sales'].describe()"
   ]
  },
  {
   "cell_type": "code",
   "execution_count": 50,
   "id": "ab888807",
   "metadata": {},
   "outputs": [
    {
     "name": "stdout",
     "output_type": "stream",
     "text": [
      "       Agency  Distribution Channel  Product Name  Claim  Duration  \\\n",
      "37339       5                     1            14      0     119.0   \n",
      "52191       5                     1             8      1     119.0   \n",
      "52403       5                     1             8      0     119.0   \n",
      "52402       5                     1             8      0     119.0   \n",
      "52199       5                     1            14      1     119.0   \n",
      "...       ...                   ...           ...    ...       ...   \n",
      "43991       4                     1            10      0       2.0   \n",
      "40177       4                     1            10      0       2.0   \n",
      "12432       4                     1            10      0       2.0   \n",
      "18289       6                     1             2      0       1.0   \n",
      "61560       4                     1            10      0       1.0   \n",
      "\n",
      "       Destination  Net Sales   Age  \n",
      "37339            9       93.0  35.0  \n",
      "52191            9       93.0  35.0  \n",
      "52403            9       93.0  30.0  \n",
      "52402            9       93.0  53.0  \n",
      "52199            9       93.0  46.0  \n",
      "...            ...        ...   ...  \n",
      "43991           37       93.0  36.0  \n",
      "40177           13       93.0  36.0  \n",
      "12432            3       93.0  37.0  \n",
      "18289           13       93.0  55.0  \n",
      "61560           19       93.0  35.0  \n",
      "\n",
      "[5094 rows x 8 columns]\n"
     ]
    }
   ],
   "source": [
    "#row with max value of net sales and sort by descending Duration\n",
    "maximum=insurance[insurance['Net Sales'] == insurance['Net Sales'].max()]\n",
    "print(maximum.sort_values(by=['Duration'], ascending=False))"
   ]
  },
  {
   "cell_type": "code",
   "execution_count": 49,
   "id": "9b149dfb",
   "metadata": {},
   "outputs": [
    {
     "name": "stdout",
     "output_type": "stream",
     "text": [
      "       Agency  Distribution Channel  Product Name  Claim  Duration  \\\n",
      "39245       4                     1             9      0       2.0   \n",
      "4735        1                     1             1      0       4.0   \n",
      "9935        4                     1            10      0       5.0   \n",
      "39254       6                     1             2      0       5.0   \n",
      "40569       4                     1             9      0       5.0   \n",
      "...       ...                   ...           ...    ...       ...   \n",
      "22677       4                     1             9      0     119.0   \n",
      "33567       1                     1             1      0     119.0   \n",
      "22668       4                     1            10      0     119.0   \n",
      "52133       5                     1             8      0     119.0   \n",
      "0           0                     0             0      0     119.0   \n",
      "\n",
      "       Destination  Net Sales   Age  \n",
      "39245            0      -27.0  36.0  \n",
      "4735            11      -27.0  31.0  \n",
      "9935            62      -27.0  42.0  \n",
      "39254           13      -27.0  55.0  \n",
      "40569           14      -27.0  36.0  \n",
      "...            ...        ...   ...  \n",
      "22677           97      -27.0  36.0  \n",
      "33567            1      -27.0  50.0  \n",
      "22668           88      -27.0  36.0  \n",
      "52133            9      -27.0  52.0  \n",
      "0                0      -27.0  55.0  \n",
      "\n",
      "[523 rows x 8 columns]\n"
     ]
    }
   ],
   "source": [
    "#row with min value of net sales and sort by ascending Duration\n",
    "minimum=insurance[insurance['Net Sales'] == insurance['Net Sales'].min()]\n",
    "print(minimum.sort_values(by=['Duration'], ascending=True))"
   ]
  },
  {
   "cell_type": "code",
   "execution_count": 9,
   "id": "aefae89d",
   "metadata": {},
   "outputs": [],
   "source": [
    "#Split the data set into the input matrix and output vector\n",
    "x= insurance.drop('Net Sales', axis=1)\n",
    "y=insurance['Net Sales']"
   ]
  },
  {
   "cell_type": "code",
   "execution_count": 10,
   "id": "2afa34e2",
   "metadata": {},
   "outputs": [
    {
     "data": {
      "text/html": [
       "<div>\n",
       "<style scoped>\n",
       "    .dataframe tbody tr th:only-of-type {\n",
       "        vertical-align: middle;\n",
       "    }\n",
       "\n",
       "    .dataframe tbody tr th {\n",
       "        vertical-align: top;\n",
       "    }\n",
       "\n",
       "    .dataframe thead th {\n",
       "        text-align: right;\n",
       "    }\n",
       "</style>\n",
       "<table border=\"1\" class=\"dataframe\">\n",
       "  <thead>\n",
       "    <tr style=\"text-align: right;\">\n",
       "      <th></th>\n",
       "      <th>Agency</th>\n",
       "      <th>Distribution Channel</th>\n",
       "      <th>Product Name</th>\n",
       "      <th>Claim</th>\n",
       "      <th>Duration</th>\n",
       "      <th>Destination</th>\n",
       "      <th>Age</th>\n",
       "    </tr>\n",
       "  </thead>\n",
       "  <tbody>\n",
       "    <tr>\n",
       "      <th>0</th>\n",
       "      <td>0</td>\n",
       "      <td>0</td>\n",
       "      <td>0</td>\n",
       "      <td>0</td>\n",
       "      <td>119.0</td>\n",
       "      <td>0</td>\n",
       "      <td>55.0</td>\n",
       "    </tr>\n",
       "    <tr>\n",
       "      <th>1</th>\n",
       "      <td>0</td>\n",
       "      <td>0</td>\n",
       "      <td>0</td>\n",
       "      <td>0</td>\n",
       "      <td>119.0</td>\n",
       "      <td>0</td>\n",
       "      <td>55.0</td>\n",
       "    </tr>\n",
       "    <tr>\n",
       "      <th>2</th>\n",
       "      <td>1</td>\n",
       "      <td>1</td>\n",
       "      <td>1</td>\n",
       "      <td>0</td>\n",
       "      <td>65.0</td>\n",
       "      <td>1</td>\n",
       "      <td>32.0</td>\n",
       "    </tr>\n",
       "    <tr>\n",
       "      <th>3</th>\n",
       "      <td>1</td>\n",
       "      <td>1</td>\n",
       "      <td>1</td>\n",
       "      <td>0</td>\n",
       "      <td>60.0</td>\n",
       "      <td>1</td>\n",
       "      <td>32.0</td>\n",
       "    </tr>\n",
       "    <tr>\n",
       "      <th>4</th>\n",
       "      <td>1</td>\n",
       "      <td>1</td>\n",
       "      <td>1</td>\n",
       "      <td>0</td>\n",
       "      <td>79.0</td>\n",
       "      <td>2</td>\n",
       "      <td>41.0</td>\n",
       "    </tr>\n",
       "    <tr>\n",
       "      <th>...</th>\n",
       "      <td>...</td>\n",
       "      <td>...</td>\n",
       "      <td>...</td>\n",
       "      <td>...</td>\n",
       "      <td>...</td>\n",
       "      <td>...</td>\n",
       "      <td>...</td>\n",
       "    </tr>\n",
       "    <tr>\n",
       "      <th>63321</th>\n",
       "      <td>2</td>\n",
       "      <td>1</td>\n",
       "      <td>3</td>\n",
       "      <td>0</td>\n",
       "      <td>111.0</td>\n",
       "      <td>10</td>\n",
       "      <td>31.0</td>\n",
       "    </tr>\n",
       "    <tr>\n",
       "      <th>63322</th>\n",
       "      <td>2</td>\n",
       "      <td>1</td>\n",
       "      <td>3</td>\n",
       "      <td>0</td>\n",
       "      <td>58.0</td>\n",
       "      <td>14</td>\n",
       "      <td>40.0</td>\n",
       "    </tr>\n",
       "    <tr>\n",
       "      <th>63323</th>\n",
       "      <td>2</td>\n",
       "      <td>1</td>\n",
       "      <td>3</td>\n",
       "      <td>0</td>\n",
       "      <td>2.0</td>\n",
       "      <td>0</td>\n",
       "      <td>55.0</td>\n",
       "    </tr>\n",
       "    <tr>\n",
       "      <th>63324</th>\n",
       "      <td>2</td>\n",
       "      <td>1</td>\n",
       "      <td>3</td>\n",
       "      <td>0</td>\n",
       "      <td>3.0</td>\n",
       "      <td>7</td>\n",
       "      <td>55.0</td>\n",
       "    </tr>\n",
       "    <tr>\n",
       "      <th>63325</th>\n",
       "      <td>2</td>\n",
       "      <td>1</td>\n",
       "      <td>3</td>\n",
       "      <td>0</td>\n",
       "      <td>22.0</td>\n",
       "      <td>19</td>\n",
       "      <td>35.0</td>\n",
       "    </tr>\n",
       "  </tbody>\n",
       "</table>\n",
       "<p>63326 rows × 7 columns</p>\n",
       "</div>"
      ],
      "text/plain": [
       "       Agency  Distribution Channel  Product Name  Claim  Duration  \\\n",
       "0           0                     0             0      0     119.0   \n",
       "1           0                     0             0      0     119.0   \n",
       "2           1                     1             1      0      65.0   \n",
       "3           1                     1             1      0      60.0   \n",
       "4           1                     1             1      0      79.0   \n",
       "...       ...                   ...           ...    ...       ...   \n",
       "63321       2                     1             3      0     111.0   \n",
       "63322       2                     1             3      0      58.0   \n",
       "63323       2                     1             3      0       2.0   \n",
       "63324       2                     1             3      0       3.0   \n",
       "63325       2                     1             3      0      22.0   \n",
       "\n",
       "       Destination   Age  \n",
       "0                0  55.0  \n",
       "1                0  55.0  \n",
       "2                1  32.0  \n",
       "3                1  32.0  \n",
       "4                2  41.0  \n",
       "...            ...   ...  \n",
       "63321           10  31.0  \n",
       "63322           14  40.0  \n",
       "63323            0  55.0  \n",
       "63324            7  55.0  \n",
       "63325           19  35.0  \n",
       "\n",
       "[63326 rows x 7 columns]"
      ]
     },
     "execution_count": 10,
     "metadata": {},
     "output_type": "execute_result"
    }
   ],
   "source": [
    "#display x \n",
    "#Dataset that have remove column Claim\n",
    "x"
   ]
  },
  {
   "cell_type": "code",
   "execution_count": 11,
   "id": "c06a540b",
   "metadata": {},
   "outputs": [
    {
     "data": {
      "text/plain": [
       "0       -27.0\n",
       "1       -27.0\n",
       "2       -27.0\n",
       "3       -27.0\n",
       "4       -19.8\n",
       "         ... \n",
       "63321    35.0\n",
       "63322    40.0\n",
       "63323    18.0\n",
       "63324    18.0\n",
       "63325    26.0\n",
       "Name: Net Sales, Length: 63326, dtype: float64"
      ]
     },
     "execution_count": 11,
     "metadata": {},
     "output_type": "execute_result"
    }
   ],
   "source": [
    "#display the vector y[what we want to predict]\n",
    "#column 'Net Sales' only\n",
    "y"
   ]
  },
  {
   "cell_type": "code",
   "execution_count": 12,
   "id": "4b6c8bb8",
   "metadata": {},
   "outputs": [
    {
     "name": "stdout",
     "output_type": "stream",
     "text": [
      "<class 'pandas.core.series.Series'>\n",
      "RangeIndex: 63326 entries, 0 to 63325\n",
      "Series name: Net Sales\n",
      "Non-Null Count  Dtype  \n",
      "--------------  -----  \n",
      "63326 non-null  float64\n",
      "dtypes: float64(1)\n",
      "memory usage: 494.9 KB\n"
     ]
    }
   ],
   "source": [
    "y.info()"
   ]
  },
  {
   "cell_type": "code",
   "execution_count": 44,
   "id": "acb877a2",
   "metadata": {},
   "outputs": [],
   "source": [
    "#Split the dataset into training and testing set\n",
    "#80% training set\n",
    "#20% test set\n",
    "from sklearn.model_selection import train_test_split\n",
    "x_train, x_test, y_train, y_test=train_test_split(x, y, test_size=0.2, random_state=30)"
   ]
  },
  {
   "cell_type": "code",
   "execution_count": 46,
   "id": "5b600a4e",
   "metadata": {},
   "outputs": [
    {
     "name": "stdout",
     "output_type": "stream",
     "text": [
      "47929    20.00\n",
      "37647    25.00\n",
      "775      35.25\n",
      "10951    93.00\n",
      "14366    93.00\n",
      "         ...  \n",
      "25091    20.00\n",
      "37183    85.00\n",
      "50345    93.00\n",
      "55643    24.00\n",
      "51578    76.00\n",
      "Name: Net Sales, Length: 12666, dtype: float64\n"
     ]
    }
   ],
   "source": [
    "#Standardize numeric data and normalize\n",
    "from sklearn.preprocessing import StandardScaler\n",
    "scaler=StandardScaler(copy=False)\n",
    "scaler.fit(x_train)\n",
    "x_train=scaler.transform(x_train)\n",
    "print(y_test)"
   ]
  },
  {
   "cell_type": "code",
   "execution_count": 15,
   "id": "838d8126",
   "metadata": {},
   "outputs": [
    {
     "name": "stdout",
     "output_type": "stream",
     "text": [
      "x_train.shape: (50660, 7)\n",
      "y_train shape: (50660,)\n"
     ]
    }
   ],
   "source": [
    "y_train = y_train.values;  #convert to numpy array\n",
    "#print the total number of rows and column\n",
    "print('x_train.shape:', x_train.shape) \n",
    "print('y_train shape:', y_train.shape)"
   ]
  },
  {
   "cell_type": "markdown",
   "id": "26d52cd9",
   "metadata": {},
   "source": [
    "# Decision Tree Model"
   ]
  },
  {
   "cell_type": "code",
   "execution_count": 16,
   "id": "57b4adac",
   "metadata": {},
   "outputs": [
    {
     "data": {
      "text/plain": [
       "DecisionTreeRegressor(random_state=42)"
      ]
     },
     "execution_count": 16,
     "metadata": {},
     "output_type": "execute_result"
    }
   ],
   "source": [
    "from sklearn.tree import DecisionTreeRegressor\n",
    "#use train dataset\n",
    "tree_reg=DecisionTreeRegressor(random_state=42)\n",
    "tree_reg.fit(x_train, y_train)"
   ]
  },
  {
   "cell_type": "code",
   "execution_count": 17,
   "id": "41ea60b2",
   "metadata": {},
   "outputs": [],
   "source": [
    "y_pred=tree_reg.predict(x_train)\n",
    "\n",
    "#predict using the same training data\n",
    "#y_train should be similar to y_predict\n",
    "#predict value similar to the actual value"
   ]
  },
  {
   "cell_type": "code",
   "execution_count": 18,
   "id": "0af2c75b",
   "metadata": {},
   "outputs": [
    {
     "name": "stdout",
     "output_type": "stream",
     "text": [
      "Result for the 10 random samples: \n",
      "actual =       0 pred =     25\n",
      "actual =      10 pred =     15\n",
      "actual =      20 pred =     20\n",
      "actual =      10 pred =     15\n",
      "actual =      13 pred =     13\n",
      "actual =      93 pred =     93\n",
      "actual =      30 pred =     58\n",
      "actual =      32 pred =     27\n",
      "actual =      16 pred =     16\n",
      "actual =      13 pred =      7\n"
     ]
    }
   ],
   "source": [
    "def show10results(y_train, y_pred):\n",
    "    print('Result for the 10 random samples: ')\n",
    "    selected = np.random.randint(0, len(y_train), 10)\n",
    "    for i in selected:\n",
    "        print('actual = {:7.0f} pred ={:7.0f}'.format(y_train[i], y_pred[i]))\n",
    "\n",
    "y_pred=tree_reg.predict(x_train)#predict\n",
    "show10results(y_train, y_pred)"
   ]
  },
  {
   "cell_type": "code",
   "execution_count": 19,
   "id": "f9c608a6",
   "metadata": {},
   "outputs": [
    {
     "name": "stdout",
     "output_type": "stream",
     "text": [
      "RMSE = 12.461528247783908\n"
     ]
    }
   ],
   "source": [
    "#calculate root mean square error\n",
    "from sklearn.metrics import mean_squared_error\n",
    "\n",
    "tree_mse=mean_squared_error(y_pred, y_train)\n",
    "tree_rmse=np.sqrt(tree_mse)\n",
    "print('RMSE =', tree_rmse)"
   ]
  },
  {
   "cell_type": "code",
   "execution_count": 20,
   "id": "f34e6c09",
   "metadata": {},
   "outputs": [
    {
     "data": {
      "text/plain": [
       "35.140899946309915"
      ]
     },
     "execution_count": 20,
     "metadata": {},
     "output_type": "execute_result"
    }
   ],
   "source": [
    "insurance['Net Sales'].mean()"
   ]
  },
  {
   "cell_type": "markdown",
   "id": "70cf088c",
   "metadata": {},
   "source": [
    "# Evaluating using cross validation"
   ]
  },
  {
   "cell_type": "code",
   "execution_count": 21,
   "id": "3e2802e8",
   "metadata": {},
   "outputs": [
    {
     "name": "stdout",
     "output_type": "stream",
     "text": [
      "Scores: [25.34194932 25.624814   25.71023705 25.72942599 25.3929443 ] \n",
      "\n",
      "Mean: 25.559874131904856\n",
      "Standard deviation: 0.16182139575357285\n"
     ]
    }
   ],
   "source": [
    "from sklearn.model_selection import cross_val_score\n",
    "\n",
    "k_fold_scores = cross_val_score(tree_reg, x_train, y_train, \n",
    "                                scoring = 'neg_mean_squared_error', cv=5)\n",
    "\n",
    "tree_reg_rmse_scores = np.sqrt(-k_fold_scores)\n",
    "\n",
    "def display_scores(scores):\n",
    "    print('Scores:', scores, '\\n')\n",
    "    print('Mean:', scores.mean())\n",
    "    print('Standard deviation:', scores.std())\n",
    "    \n",
    "display_scores(tree_reg_rmse_scores)"
   ]
  },
  {
   "cell_type": "code",
   "execution_count": 22,
   "id": "d95da442",
   "metadata": {},
   "outputs": [
    {
     "name": "stdout",
     "output_type": "stream",
     "text": [
      "actual |  Predicted\n",
      "------------------\n",
      "21.0  | 24.25\n",
      "41.0  | 34.166666666666664\n",
      "39.6  | 93.0\n",
      "31.0  | 27.333333333333332\n",
      "20.0  | 25.0\n",
      "20.0  | 20.5\n",
      "16.0  | 13.0\n",
      "79.2  | 29.7\n",
      "-27.0  | 19.8\n",
      "11.0  | 14.0\n",
      "59.4  | 39.6\n",
      "62.0  | 54.0\n",
      "62.0  | 38.42857142857143\n",
      "80.0  | 80.0\n",
      "45.0  | 45.0\n",
      "10.0  | 10.0\n",
      "14.0  | 27.636363636363637\n",
      "10.0  | 15.73913043478261\n",
      "39.6  | 36.300000000000004\n",
      "22.0  | 20.0\n"
     ]
    }
   ],
   "source": [
    "#cross validation predict\n",
    "from sklearn.model_selection import cross_val_predict\n",
    "\n",
    "# perform cross-validatied prediction using cross_val_predict\n",
    "y_pred_cv = cross_val_predict(tree_reg, x_train, y_train, cv=3)\n",
    "\n",
    "def peek_results(actual, predicted, num = 20):\n",
    "    print('actual |  Predicted')\n",
    "    print('------------------')\n",
    "    for i in range(num):\n",
    "        sel = np.random.randint(0, len(y_train))\n",
    "        print(actual[sel], ' |', predicted[sel])\n",
    "        \n",
    "peek_results(y_train, y_pred_cv)  "
   ]
  },
  {
   "cell_type": "code",
   "execution_count": 23,
   "id": "11abc9e5",
   "metadata": {},
   "outputs": [],
   "source": [
    "y_train=pd.DataFrame(y_train)\n",
    "y_pred_cv=pd.DataFrame(y_pred_cv)"
   ]
  },
  {
   "cell_type": "code",
   "execution_count": 24,
   "id": "0b401f46",
   "metadata": {},
   "outputs": [
    {
     "data": {
      "image/png": "[encoded data removed]",
      "text/plain": [
       "<Figure size 432x288 with 1 Axes>"
      ]
     },
     "metadata": {
      "needs_background": "light"
     },
     "output_type": "display_data"
    }
   ],
   "source": [
    "import matplotlib.pyplot as plt\n",
    "import numpy as np\n",
    "\n",
    "\n",
    "def plotGraph(y_train,y_pred_cv,regressorName):\n",
    "    if max(y_train) >= max(y_pred_cv):\n",
    "        my_range = int(max(y_train))\n",
    "    else:\n",
    "        my_range = int(max(y_pred_cv))\n",
    "    plt.scatter(range(len(y_train)), y_train, color='blue')\n",
    "    plt.scatter(range(len(y_pred_cv)), y_pred_cv, color='red')\n",
    "    plt.title(regressorName)\n",
    "    plt.show()\n",
    "    return\n",
    "\n",
    "\n",
    "y_test1 = range(10)\n",
    "y_pred = np.random.randint(0, 10, 10)\n",
    "\n",
    "plotGraph(y_train, y_pred_cv, \"test\")"
   ]
  },
  {
   "cell_type": "markdown",
   "id": "5cef851d",
   "metadata": {},
   "source": [
    "# Fine Tuning "
   ]
  },
  {
   "cell_type": "code",
   "execution_count": 25,
   "id": "48ce367f",
   "metadata": {},
   "outputs": [],
   "source": [
    "#define parameters\n",
    "parameters={\"splitter\":[\"best\",\"random\"],\n",
    "            \"max_depth\" : [1,3,5,7,9,11,12],\n",
    "           \"min_samples_leaf\":[1,2,3,4,5,6,7,8,9,10],\n",
    "           \"min_weight_fraction_leaf\":[0.1,0.2,0.3,0.4,0.5,0.6,0.7,0.8,0.9],\n",
    "           \"max_features\":[\"auto\",\"log2\",\"sqrt\",None],\n",
    "           \"max_leaf_nodes\":[None,10,20,30,40,50,60,70,80,90] }\n"
   ]
  },
  {
   "cell_type": "code",
   "execution_count": 26,
   "id": "3f21865b",
   "metadata": {},
   "outputs": [
    {
     "name": "stdout",
     "output_type": "stream",
     "text": [
      "Performing grid search..."
     ]
    },
    {
     "name": "stderr",
     "output_type": "stream",
     "text": [
      "C:\\Users\\shinj\\anaconda3\\lib\\site-packages\\sklearn\\model_selection\\_validation.py:372: FitFailedWarning: \n",
      "112000 fits failed out of a total of 252000.\n",
      "The score on these train-test partitions for these parameters will be set to nan.\n",
      "If these failures are not expected, you can try to debug them by setting error_score='raise'.\n",
      "\n",
      "Below are more details about the failures:\n",
      "--------------------------------------------------------------------------------\n",
      "112000 fits failed with the following error:\n",
      "Traceback (most recent call last):\n",
      "  File \"C:\\Users\\shinj\\anaconda3\\lib\\site-packages\\sklearn\\model_selection\\_validation.py\", line 680, in _fit_and_score\n",
      "    estimator.fit(X_train, y_train, **fit_params)\n",
      "  File \"C:\\Users\\shinj\\anaconda3\\lib\\site-packages\\sklearn\\tree\\_classes.py\", line 1315, in fit\n",
      "    super().fit(\n",
      "  File \"C:\\Users\\shinj\\anaconda3\\lib\\site-packages\\sklearn\\tree\\_classes.py\", line 304, in fit\n",
      "    raise ValueError(\"min_weight_fraction_leaf must in [0, 0.5]\")\n",
      "ValueError: min_weight_fraction_leaf must in [0, 0.5]\n",
      "\n",
      "  warnings.warn(some_fits_failed_message, FitFailedWarning)\n"
     ]
    },
    {
     "name": "stdout",
     "output_type": "stream",
     "text": [
      "done\n"
     ]
    },
    {
     "name": "stderr",
     "output_type": "stream",
     "text": [
      "C:\\Users\\shinj\\anaconda3\\lib\\site-packages\\sklearn\\model_selection\\_search.py:969: UserWarning: One or more of the test scores are non-finite: [-659.22807343 -702.16648364 -668.03913604 ...           nan           nan\n",
      "           nan]\n",
      "  warnings.warn(\n"
     ]
    }
   ],
   "source": [
    "from sklearn.model_selection import GridSearchCV\n",
    "\n",
    "# create an instance of GridSearchCV using param_grid with 5-fold cv\n",
    "grid_search = GridSearchCV(tree_reg, parameters, cv=5, scoring = 'neg_mean_squared_error')\n",
    "print ('Performing grid search...', end = '')\n",
    "# perform grid search\n",
    "grid_search.fit(x_train, y_train)\n",
    "print('done')"
   ]
  },
  {
   "cell_type": "code",
   "execution_count": 27,
   "id": "efe002cc",
   "metadata": {},
   "outputs": [
    {
     "data": {
      "text/plain": [
       "DecisionTreeRegressor(max_depth=5, max_features='auto', max_leaf_nodes=10,\n",
       "                      min_weight_fraction_leaf=0.1, random_state=42)"
      ]
     },
     "execution_count": 27,
     "metadata": {},
     "output_type": "execute_result"
    }
   ],
   "source": [
    "best_model = grid_search.best_estimator_\n",
    "best_model"
   ]
  },
  {
   "cell_type": "code",
   "execution_count": 28,
   "id": "87c8874e",
   "metadata": {},
   "outputs": [
    {
     "name": "stdout",
     "output_type": "stream",
     "text": [
      "Best hyperparameter settings: {'max_depth': 5, 'max_features': 'auto', 'max_leaf_nodes': 10, 'min_samples_leaf': 1, 'min_weight_fraction_leaf': 0.1, 'splitter': 'best'}\n",
      "RMSE of the best model = 24.56608788802366\n"
     ]
    }
   ],
   "source": [
    "print('Best hyperparameter settings:', grid_search.best_params_)\n",
    "print('RMSE of the best model =', np.sqrt(-grid_search.best_score_))"
   ]
  },
  {
   "cell_type": "markdown",
   "id": "13979653",
   "metadata": {},
   "source": [
    "# Test Data"
   ]
  },
  {
   "cell_type": "code",
   "execution_count": 37,
   "id": "85f848e1",
   "metadata": {},
   "outputs": [
    {
     "name": "stdout",
     "output_type": "stream",
     "text": [
      "range(0, 10)\n"
     ]
    }
   ],
   "source": [
    "#Standardize numeric data and normalize\n",
    "from sklearn.preprocessing import StandardScaler\n",
    "scaler=StandardScaler(copy=False)\n",
    "scaler.fit(x_test)\n",
    "x_test=scaler.transform(x_test)\n"
   ]
  },
  {
   "cell_type": "code",
   "execution_count": 47,
   "id": "2ac4f440",
   "metadata": {},
   "outputs": [
    {
     "name": "stdout",
     "output_type": "stream",
     "text": [
      "x_test.shape: (12666, 7)\n",
      "y_test shape: (12666,)\n"
     ]
    }
   ],
   "source": [
    "y_test = y_test.values;  #convert to numpy array\n",
    "#print the total number of rows and column\n",
    "print('x_test.shape:', x_test.shape) \n",
    "print('y_test shape:', y_test.shape)\n",
    "\n"
   ]
  },
  {
   "cell_type": "code",
   "execution_count": 48,
   "id": "b27604ac",
   "metadata": {},
   "outputs": [
    {
     "name": "stderr",
     "output_type": "stream",
     "text": [
      "C:\\Users\\shinj\\anaconda3\\lib\\site-packages\\sklearn\\base.py:443: UserWarning: X has feature names, but DecisionTreeRegressor was fitted without feature names\n",
      "  warnings.warn(\n"
     ]
    },
    {
     "data": {
      "text/plain": [
       "32.779178644311756"
      ]
     },
     "execution_count": 48,
     "metadata": {},
     "output_type": "execute_result"
    }
   ],
   "source": [
    "#predicting on the test case\n",
    "y_pred=best_model.predict(x_test)\n",
    "final_mse=mean_squared_error(y_test, y_pred)\n",
    "final_rmse=np.sqrt(final_mse)\n",
    "final_rmse"
   ]
  },
  {
   "cell_type": "code",
   "execution_count": null,
   "id": "48b83be8",
   "metadata": {},
   "outputs": [],
   "source": []
  }
 ],
 "metadata": {
  "kernelspec": {
   "display_name": "Python 3 (ipykernel)",
   "language": "python",
   "name": "python3"
  },
  "language_info": {
   "codemirror_mode": {
    "name": "ipython",
    "version": 3
   },
   "file_extension": ".py",
   "mimetype": "text/x-python",
   "name": "python",
   "nbconvert_exporter": "python",
   "pygments_lexer": "ipython3",
   "version": "3.9.12"
  }
 },
 "nbformat": 4,
 "nbformat_minor": 5
}
