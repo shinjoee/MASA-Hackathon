{
 "cells": [
  {
   "cell_type": "code",
   "execution_count": 3,
   "id": "ac01f13c",
   "metadata": {},
   "outputs": [],
   "source": [
    "#import library\n",
    "import numpy as np\n",
    "import pandas as pd\n",
    "\n",
    "#to ensure we have consistent results\n",
    "np.random.seed(42)"
   ]
  },
  {
   "cell_type": "code",
   "execution_count": 4,
   "id": "bd9798cb",
   "metadata": {},
   "outputs": [
    {
     "name": "stdout",
     "output_type": "stream",
     "text": [
      "==> Loading the dataset...\n",
      "done\n",
      "\n"
     ]
    }
   ],
   "source": [
    "#Load the dataset\n",
    "print('==> Loading the dataset...')\n",
    "insurance=pd.read_csv(\"dataset2.csv\")\n",
    "print('done\\n')"
   ]
  },
  {
   "cell_type": "code",
   "execution_count": 5,
   "id": "f25b5689",
   "metadata": {},
   "outputs": [
    {
     "data": {
      "text/html": [
       "<div>\n",
       "<style scoped>\n",
       "    .dataframe tbody tr th:only-of-type {\n",
       "        vertical-align: middle;\n",
       "    }\n",
       "\n",
       "    .dataframe tbody tr th {\n",
       "        vertical-align: top;\n",
       "    }\n",
       "\n",
       "    .dataframe thead th {\n",
       "        text-align: right;\n",
       "    }\n",
       "</style>\n",
       "<table border=\"1\" class=\"dataframe\">\n",
       "  <thead>\n",
       "    <tr style=\"text-align: right;\">\n",
       "      <th></th>\n",
       "      <th>Agency Type</th>\n",
       "      <th>Distribution Channel</th>\n",
       "      <th>Claim</th>\n",
       "      <th>Duration</th>\n",
       "      <th>Destination</th>\n",
       "      <th>Net Sales</th>\n",
       "      <th>Commision (in value)</th>\n",
       "      <th>Age</th>\n",
       "    </tr>\n",
       "  </thead>\n",
       "  <tbody>\n",
       "    <tr>\n",
       "      <th>0</th>\n",
       "      <td>0</td>\n",
       "      <td>0</td>\n",
       "      <td>0</td>\n",
       "      <td>119.0</td>\n",
       "      <td>0</td>\n",
       "      <td>-27.0</td>\n",
       "      <td>9.570</td>\n",
       "      <td>55.0</td>\n",
       "    </tr>\n",
       "    <tr>\n",
       "      <th>1</th>\n",
       "      <td>0</td>\n",
       "      <td>0</td>\n",
       "      <td>0</td>\n",
       "      <td>119.0</td>\n",
       "      <td>0</td>\n",
       "      <td>-27.0</td>\n",
       "      <td>9.570</td>\n",
       "      <td>55.0</td>\n",
       "    </tr>\n",
       "    <tr>\n",
       "      <th>2</th>\n",
       "      <td>0</td>\n",
       "      <td>1</td>\n",
       "      <td>0</td>\n",
       "      <td>65.0</td>\n",
       "      <td>1</td>\n",
       "      <td>-27.0</td>\n",
       "      <td>28.875</td>\n",
       "      <td>32.0</td>\n",
       "    </tr>\n",
       "    <tr>\n",
       "      <th>3</th>\n",
       "      <td>0</td>\n",
       "      <td>1</td>\n",
       "      <td>0</td>\n",
       "      <td>60.0</td>\n",
       "      <td>1</td>\n",
       "      <td>-27.0</td>\n",
       "      <td>23.760</td>\n",
       "      <td>32.0</td>\n",
       "    </tr>\n",
       "    <tr>\n",
       "      <th>4</th>\n",
       "      <td>0</td>\n",
       "      <td>1</td>\n",
       "      <td>0</td>\n",
       "      <td>79.0</td>\n",
       "      <td>2</td>\n",
       "      <td>-19.8</td>\n",
       "      <td>11.880</td>\n",
       "      <td>41.0</td>\n",
       "    </tr>\n",
       "  </tbody>\n",
       "</table>\n",
       "</div>"
      ],
      "text/plain": [
       "   Agency Type  Distribution Channel  Claim  Duration  Destination  Net Sales  \\\n",
       "0            0                     0      0     119.0            0      -27.0   \n",
       "1            0                     0      0     119.0            0      -27.0   \n",
       "2            0                     1      0      65.0            1      -27.0   \n",
       "3            0                     1      0      60.0            1      -27.0   \n",
       "4            0                     1      0      79.0            2      -19.8   \n",
       "\n",
       "   Commision (in value)   Age  \n",
       "0                 9.570  55.0  \n",
       "1                 9.570  55.0  \n",
       "2                28.875  32.0  \n",
       "3                23.760  32.0  \n",
       "4                11.880  41.0  "
      ]
     },
     "execution_count": 5,
     "metadata": {},
     "output_type": "execute_result"
    }
   ],
   "source": [
    "#display dataset\n",
    "insurance\n",
    "#display first 5 rows\n",
    "insurance.head()"
   ]
  },
  {
   "cell_type": "code",
   "execution_count": 6,
   "id": "aefae89d",
   "metadata": {},
   "outputs": [],
   "source": [
    "#Split the data set into the input matrix and output vector\n",
    "x= insurance.drop('Claim', axis=1)\n",
    "y=insurance['Claim']"
   ]
  },
  {
   "cell_type": "code",
   "execution_count": 6,
   "id": "2afa34e2",
   "metadata": {},
   "outputs": [
    {
     "data": {
      "text/html": [
       "<div>\n",
       "<style scoped>\n",
       "    .dataframe tbody tr th:only-of-type {\n",
       "        vertical-align: middle;\n",
       "    }\n",
       "\n",
       "    .dataframe tbody tr th {\n",
       "        vertical-align: top;\n",
       "    }\n",
       "\n",
       "    .dataframe thead th {\n",
       "        text-align: right;\n",
       "    }\n",
       "</style>\n",
       "<table border=\"1\" class=\"dataframe\">\n",
       "  <thead>\n",
       "    <tr style=\"text-align: right;\">\n",
       "      <th></th>\n",
       "      <th>Agency</th>\n",
       "      <th>Agency Type</th>\n",
       "      <th>Distribution Channel</th>\n",
       "      <th>Product Name</th>\n",
       "      <th>Duration</th>\n",
       "      <th>Destination</th>\n",
       "      <th>Net Sales</th>\n",
       "      <th>Commision (in value)</th>\n",
       "      <th>Age</th>\n",
       "    </tr>\n",
       "  </thead>\n",
       "  <tbody>\n",
       "    <tr>\n",
       "      <th>0</th>\n",
       "      <td>0</td>\n",
       "      <td>0</td>\n",
       "      <td>0</td>\n",
       "      <td>0</td>\n",
       "      <td>86.5</td>\n",
       "      <td>0</td>\n",
       "      <td>-29.0</td>\n",
       "      <td>9.57</td>\n",
       "      <td>81.0</td>\n",
       "    </tr>\n",
       "    <tr>\n",
       "      <th>1</th>\n",
       "      <td>0</td>\n",
       "      <td>0</td>\n",
       "      <td>0</td>\n",
       "      <td>0</td>\n",
       "      <td>86.5</td>\n",
       "      <td>0</td>\n",
       "      <td>-29.0</td>\n",
       "      <td>9.57</td>\n",
       "      <td>71.0</td>\n",
       "    </tr>\n",
       "    <tr>\n",
       "      <th>2</th>\n",
       "      <td>1</td>\n",
       "      <td>0</td>\n",
       "      <td>1</td>\n",
       "      <td>1</td>\n",
       "      <td>65.0</td>\n",
       "      <td>1</td>\n",
       "      <td>-37.5</td>\n",
       "      <td>29.70</td>\n",
       "      <td>32.0</td>\n",
       "    </tr>\n",
       "    <tr>\n",
       "      <th>3</th>\n",
       "      <td>1</td>\n",
       "      <td>0</td>\n",
       "      <td>1</td>\n",
       "      <td>1</td>\n",
       "      <td>60.0</td>\n",
       "      <td>1</td>\n",
       "      <td>-37.5</td>\n",
       "      <td>23.76</td>\n",
       "      <td>32.0</td>\n",
       "    </tr>\n",
       "    <tr>\n",
       "      <th>4</th>\n",
       "      <td>1</td>\n",
       "      <td>0</td>\n",
       "      <td>1</td>\n",
       "      <td>1</td>\n",
       "      <td>79.0</td>\n",
       "      <td>2</td>\n",
       "      <td>-19.8</td>\n",
       "      <td>11.88</td>\n",
       "      <td>41.0</td>\n",
       "    </tr>\n",
       "    <tr>\n",
       "      <th>...</th>\n",
       "      <td>...</td>\n",
       "      <td>...</td>\n",
       "      <td>...</td>\n",
       "      <td>...</td>\n",
       "      <td>...</td>\n",
       "      <td>...</td>\n",
       "      <td>...</td>\n",
       "      <td>...</td>\n",
       "      <td>...</td>\n",
       "    </tr>\n",
       "    <tr>\n",
       "      <th>63321</th>\n",
       "      <td>2</td>\n",
       "      <td>1</td>\n",
       "      <td>1</td>\n",
       "      <td>3</td>\n",
       "      <td>86.5</td>\n",
       "      <td>10</td>\n",
       "      <td>35.0</td>\n",
       "      <td>12.25</td>\n",
       "      <td>31.0</td>\n",
       "    </tr>\n",
       "    <tr>\n",
       "      <th>63322</th>\n",
       "      <td>2</td>\n",
       "      <td>1</td>\n",
       "      <td>1</td>\n",
       "      <td>3</td>\n",
       "      <td>58.0</td>\n",
       "      <td>14</td>\n",
       "      <td>40.0</td>\n",
       "      <td>14.00</td>\n",
       "      <td>40.0</td>\n",
       "    </tr>\n",
       "    <tr>\n",
       "      <th>63323</th>\n",
       "      <td>2</td>\n",
       "      <td>1</td>\n",
       "      <td>1</td>\n",
       "      <td>3</td>\n",
       "      <td>2.0</td>\n",
       "      <td>0</td>\n",
       "      <td>18.0</td>\n",
       "      <td>6.30</td>\n",
       "      <td>57.0</td>\n",
       "    </tr>\n",
       "    <tr>\n",
       "      <th>63324</th>\n",
       "      <td>2</td>\n",
       "      <td>1</td>\n",
       "      <td>1</td>\n",
       "      <td>3</td>\n",
       "      <td>3.0</td>\n",
       "      <td>7</td>\n",
       "      <td>18.0</td>\n",
       "      <td>6.30</td>\n",
       "      <td>63.0</td>\n",
       "    </tr>\n",
       "    <tr>\n",
       "      <th>63325</th>\n",
       "      <td>2</td>\n",
       "      <td>1</td>\n",
       "      <td>1</td>\n",
       "      <td>3</td>\n",
       "      <td>22.0</td>\n",
       "      <td>19</td>\n",
       "      <td>26.0</td>\n",
       "      <td>9.10</td>\n",
       "      <td>35.0</td>\n",
       "    </tr>\n",
       "  </tbody>\n",
       "</table>\n",
       "<p>63326 rows × 9 columns</p>\n",
       "</div>"
      ],
      "text/plain": [
       "       Agency  Agency Type  Distribution Channel  Product Name  Duration  \\\n",
       "0           0            0                     0             0      86.5   \n",
       "1           0            0                     0             0      86.5   \n",
       "2           1            0                     1             1      65.0   \n",
       "3           1            0                     1             1      60.0   \n",
       "4           1            0                     1             1      79.0   \n",
       "...       ...          ...                   ...           ...       ...   \n",
       "63321       2            1                     1             3      86.5   \n",
       "63322       2            1                     1             3      58.0   \n",
       "63323       2            1                     1             3       2.0   \n",
       "63324       2            1                     1             3       3.0   \n",
       "63325       2            1                     1             3      22.0   \n",
       "\n",
       "       Destination  Net Sales  Commision (in value)   Age  \n",
       "0                0      -29.0                  9.57  81.0  \n",
       "1                0      -29.0                  9.57  71.0  \n",
       "2                1      -37.5                 29.70  32.0  \n",
       "3                1      -37.5                 23.76  32.0  \n",
       "4                2      -19.8                 11.88  41.0  \n",
       "...            ...        ...                   ...   ...  \n",
       "63321           10       35.0                 12.25  31.0  \n",
       "63322           14       40.0                 14.00  40.0  \n",
       "63323            0       18.0                  6.30  57.0  \n",
       "63324            7       18.0                  6.30  63.0  \n",
       "63325           19       26.0                  9.10  35.0  \n",
       "\n",
       "[63326 rows x 9 columns]"
      ]
     },
     "execution_count": 6,
     "metadata": {},
     "output_type": "execute_result"
    }
   ],
   "source": [
    "#display x \n",
    "#Dataset that have remove column Claim\n",
    "x"
   ]
  },
  {
   "cell_type": "code",
   "execution_count": 7,
   "id": "c06a540b",
   "metadata": {},
   "outputs": [
    {
     "data": {
      "text/plain": [
       "0        0\n",
       "1        0\n",
       "2        0\n",
       "3        0\n",
       "4        0\n",
       "        ..\n",
       "63321    0\n",
       "63322    0\n",
       "63323    0\n",
       "63324    0\n",
       "63325    0\n",
       "Name: Claim, Length: 63326, dtype: int64"
      ]
     },
     "execution_count": 7,
     "metadata": {},
     "output_type": "execute_result"
    }
   ],
   "source": [
    "#display the vector y[what we want to predict]\n",
    "#column 'Claim' only\n",
    "y"
   ]
  },
  {
   "cell_type": "code",
   "execution_count": 24,
   "id": "a8479f8e",
   "metadata": {},
   "outputs": [
    {
     "name": "stdout",
     "output_type": "stream",
     "text": [
      "927\n"
     ]
    }
   ],
   "source": [
    "a=0\n",
    "for i in y:\n",
    "    if i==1:\n",
    "        a=a+1\n",
    "print(a)"
   ]
  },
  {
   "cell_type": "code",
   "execution_count": 8,
   "id": "4b6c8bb8",
   "metadata": {},
   "outputs": [
    {
     "name": "stdout",
     "output_type": "stream",
     "text": [
      "<class 'pandas.core.series.Series'>\n",
      "RangeIndex: 63326 entries, 0 to 63325\n",
      "Series name: Claim\n",
      "Non-Null Count  Dtype\n",
      "--------------  -----\n",
      "63326 non-null  int64\n",
      "dtypes: int64(1)\n",
      "memory usage: 494.9 KB\n"
     ]
    }
   ],
   "source": [
    "y.info()"
   ]
  },
  {
   "cell_type": "code",
   "execution_count": 9,
   "id": "acb877a2",
   "metadata": {},
   "outputs": [],
   "source": [
    "#Split the dataset into training and testing set\n",
    "#80% training set\n",
    "#20% test set\n",
    "from sklearn.model_selection import train_test_split\n",
    "x_train, x_test, y_train, y_test=train_test_split(x, y, test_size=0.2, random_state=30)"
   ]
  },
  {
   "cell_type": "code",
   "execution_count": 10,
   "id": "5b600a4e",
   "metadata": {},
   "outputs": [],
   "source": [
    "#Standardize numeric data and normalize\n",
    "from sklearn.preprocessing import StandardScaler\n",
    "scaler=StandardScaler(copy=False)\n",
    "scaler.fit(x_train)\n",
    "X_train=scaler.transform(x_train)"
   ]
  },
  {
   "cell_type": "code",
   "execution_count": 11,
   "id": "838d8126",
   "metadata": {},
   "outputs": [
    {
     "name": "stdout",
     "output_type": "stream",
     "text": [
      "x_train.shape: (50660, 7)\n",
      "y_train shape: (50660,)\n"
     ]
    }
   ],
   "source": [
    "y_train = y_train.values;  #convert to numpy array\n",
    "#print the total number of rows and column\n",
    "print('x_train.shape:', x_train.shape) \n",
    "print('y_train shape:', y_train.shape)"
   ]
  },
  {
   "cell_type": "markdown",
   "id": "26d52cd9",
   "metadata": {},
   "source": [
    "# SGD Classifier Model"
   ]
  },
  {
   "cell_type": "code",
   "execution_count": 12,
   "id": "57b4adac",
   "metadata": {},
   "outputs": [
    {
     "data": {
      "text/plain": [
       "SGDClassifier(max_iter=5, random_state=42, tol=None)"
      ]
     },
     "execution_count": 12,
     "metadata": {},
     "output_type": "execute_result"
    }
   ],
   "source": [
    "from sklearn.linear_model import SGDClassifier\n",
    "#use train dataset\n",
    "sgd_clf=SGDClassifier(random_state=42, max_iter=5, tol=None)\n",
    "sgd_clf.fit(x_train, y_train)"
   ]
  },
  {
   "cell_type": "code",
   "execution_count": 13,
   "id": "41ea60b2",
   "metadata": {},
   "outputs": [],
   "source": [
    "y_pred=sgd_clf.predict(x_train)\n",
    "#predict using the same training data\n",
    "#y_train should be similar to y_predict\n",
    "#predict value similar to the actual value"
   ]
  },
  {
   "cell_type": "code",
   "execution_count": 15,
   "id": "0af2c75b",
   "metadata": {},
   "outputs": [
    {
     "name": "stdout",
     "output_type": "stream",
     "text": [
      "Result for the 10 random samples: \n",
      "actual =       0 pred =      0\n",
      "actual =       0 pred =      0\n",
      "actual =       0 pred =      0\n",
      "actual =       0 pred =      0\n",
      "actual =       0 pred =      0\n",
      "actual =       0 pred =      0\n",
      "actual =       0 pred =      0\n",
      "actual =       0 pred =      0\n",
      "actual =       0 pred =      0\n",
      "actual =       0 pred =      0\n"
     ]
    }
   ],
   "source": [
    "def show10results(y_train, y_pred):\n",
    "    print('Result for the 10 random samples: ')\n",
    "    selected = np.random.randint(0, len(y_train), 10)\n",
    "    for i in selected:\n",
    "        print('actual = {:7.0f} pred ={:7.0f}'.format(y_train[i], y_pred[i]))\n",
    "\n",
    "y_pred=sgd_clf.predict(x_train)#predict\n",
    "show10results(y_train, y_pred)"
   ]
  },
  {
   "cell_type": "code",
   "execution_count": 16,
   "id": "f9c608a6",
   "metadata": {},
   "outputs": [
    {
     "name": "stdout",
     "output_type": "stream",
     "text": [
      "Training accuracy: 0.9860\n"
     ]
    }
   ],
   "source": [
    "#evaluating accuracy\n",
    "from sklearn.metrics import accuracy_score\n",
    "train_acc=accuracy_score(y_train, y_pred)\n",
    "print(\"Training accuracy: {:.4f}\".format(train_acc))"
   ]
  },
  {
   "cell_type": "code",
   "execution_count": 18,
   "id": "f34e6c09",
   "metadata": {},
   "outputs": [
    {
     "data": {
      "text/plain": [
       "array([0.98596554, 0.97933321, 0.98602393])"
      ]
     },
     "execution_count": 18,
     "metadata": {},
     "output_type": "execute_result"
    }
   ],
   "source": [
    "#3 fold cross validation\n",
    "from sklearn.model_selection import cross_val_score\n",
    "k_scores=cross_val_score(sgd_clf, x_train, y_train, cv=3, scoring=\"accuracy\")\n",
    "k_scores"
   ]
  },
  {
   "cell_type": "code",
   "execution_count": 19,
   "id": "d7acc135",
   "metadata": {},
   "outputs": [
    {
     "name": "stdout",
     "output_type": "stream",
     "text": [
      "Accuracy using prediction values: 0.9859849980260561\n",
      "Accuracy using prediction values: 0.9859849980260561\n"
     ]
    }
   ],
   "source": [
    "#check whether is skewed data\n",
    "from sklearn.metrics import accuracy_score\n",
    "y_train_pred = sgd_clf.predict(x_train) # make sure sgd_clf has been trained\n",
    "print('Accuracy using prediction values:', accuracy_score(y_train, y_pred))\n",
    "y_train_allfalse = np.zeros(len(y_train), dtype=bool)\n",
    "print('Accuracy using prediction values:', accuracy_score(y_train, y_train_allfalse))"
   ]
  },
  {
   "cell_type": "code",
   "execution_count": 22,
   "id": "ddabb8c2",
   "metadata": {},
   "outputs": [],
   "source": [
    "#predict the label for all training samples\n",
    "from sklearn.model_selection import cross_val_predict\n",
    "y_pred_cv = cross_val_predict (sgd_clf, X_train, y_train, cv=3)\n"
   ]
  },
  {
   "cell_type": "code",
   "execution_count": 23,
   "id": "16ecbd05",
   "metadata": {},
   "outputs": [
    {
     "name": "stdout",
     "output_type": "stream",
     "text": [
      "[[49950     0]\n",
      " [  710     0]]\n"
     ]
    }
   ],
   "source": [
    "#perform confusion matrix\n",
    "from sklearn.metrics import confusion_matrix\n",
    "cm = confusion_matrix (y_train, y_pred_cv)\n",
    "print(cm)"
   ]
  },
  {
   "cell_type": "code",
   "execution_count": 26,
   "id": "3bd5a668",
   "metadata": {},
   "outputs": [
    {
     "data": {
      "image/png": "[encoded data removed]",
      "text/plain": [
       "<Figure size 432x288 with 2 Axes>"
      ]
     },
     "metadata": {
      "needs_background": "light"
     },
     "output_type": "display_data"
    }
   ],
   "source": [
    "import seaborn as sns\n",
    "import matplotlib.pyplot as plt\n",
    "group_names = ['True Neg','False Pos','False Neg','True Pos']\n",
    "group_counts = [\"{0:0.0f}\".format(value) for value in\n",
    " cm.flatten()]\n",
    "group_percentages = [\"{0:.2%}\".format(value) for value in\n",
    " cm.flatten()/np.sum(cm)]\n",
    "labels = [f\"{v1}\\n{v2}\\n{v3}\" for v1, v2, v3 in\n",
    " zip(group_names,group_counts,group_percentages)]\n",
    "labels = np.asarray(labels).reshape(2,2)\n",
    "ax = sns.heatmap(cm, annot=labels, fmt='', cmap='Blues')\n",
    "ax.set_title('Confusion Matrix with labels\\n\\n');\n",
    "ax.set_xlabel('\\nPredicted Values')\n",
    "ax.set_ylabel('Actual Values ');\n",
    "## Ticket labels - List must be in alphabetical order\n",
    "ax.xaxis.set_ticklabels(['False','True'])\n",
    "ax.yaxis.set_ticklabels(['False','True'])\n",
    "## Display the visualization of the Confusion Matrix.\n",
    "plt.show()"
   ]
  },
  {
   "cell_type": "code",
   "execution_count": 27,
   "id": "c90de5d2",
   "metadata": {},
   "outputs": [
    {
     "name": "stdout",
     "output_type": "stream",
     "text": [
      "precision = 0.0000\n",
      "recall = 0.0000\n",
      "f1 score = 0.0000\n"
     ]
    },
    {
     "name": "stderr",
     "output_type": "stream",
     "text": [
      "C:\\Users\\shinj\\anaconda3\\lib\\site-packages\\sklearn\\metrics\\_classification.py:1318: UndefinedMetricWarning: Precision is ill-defined and being set to 0.0 due to no predicted samples. Use `zero_division` parameter to control this behavior.\n",
      "  _warn_prf(average, modifier, msg_start, len(result))\n"
     ]
    }
   ],
   "source": [
    "from sklearn.metrics import precision_score, recall_score, f1_score\n",
    "print('precision = {:.4f}'.format(precision_score(y_train, y_pred_cv)))\n",
    "print('recall = {:.4f}'.format(recall_score (y_train, y_pred_cv)))\n",
    "print('f1 score = {:.4f}'.format(f1_score(y_train, y_pred_cv)))"
   ]
  },
  {
   "cell_type": "code",
   "execution_count": null,
   "id": "057f7e00",
   "metadata": {},
   "outputs": [],
   "source": []
  }
 ],
 "metadata": {
  "kernelspec": {
   "display_name": "Python 3 (ipykernel)",
   "language": "python",
   "name": "python3"
  },
  "language_info": {
   "codemirror_mode": {
    "name": "ipython",
    "version": 3
   },
   "file_extension": ".py",
   "mimetype": "text/x-python",
   "name": "python",
   "nbconvert_exporter": "python",
   "pygments_lexer": "ipython3",
   "version": "3.9.12"
  }
 },
 "nbformat": 4,
 "nbformat_minor": 5
}
